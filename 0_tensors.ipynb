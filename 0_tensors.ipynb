{
  "cells": [
    {
      "cell_type": "markdown",
      "metadata": {
        "id": "view-in-github",
        "colab_type": "text"
      },
      "source": [
        "<a href=\"https://colab.research.google.com/github/SzymonNowakowski/ml_workshop_jupyter/blob/main/0_tensors.ipynb\" target=\"_parent\"><img src=\"https://colab.research.google.com/assets/colab-badge.svg\" alt=\"Open In Colab\"/></a>"
      ]
    },
    {
      "cell_type": "markdown",
      "id": "e6d06270-eb68-428e-9661-202cafbe6fc0",
      "metadata": {
        "id": "e6d06270-eb68-428e-9661-202cafbe6fc0"
      },
      "source": [
        "# Let's talk about Tensors\n",
        "\n",
        "A PyTorch or TensorFlow Tensor is just a **multidimensional array**. But it is much more transformation-centered, and when I say *transformation* I mean mathematical transformation.\n",
        "\n",
        "Many times in the past it proved for me hard to speak clearly of Tensor transformations and dimensions. Below is a screenshot from a random tutorial, which shows a clear confusion when the author talks about Tensor dimensions.\n",
        "\n",
        "![Tensor dimensions confusion - screenshot from https://beerensahu.wordpress.com/2018/03/21/pytorch-tutorial-lesson-1-tensor/](https://i.imgur.com/jikCq6K.png)"
      ]
    },
    {
      "cell_type": "code",
      "execution_count": null,
      "id": "d8e5cef8-40d6-4d5b-bb97-e4df26a43afa",
      "metadata": {
        "id": "d8e5cef8-40d6-4d5b-bb97-e4df26a43afa",
        "outputId": "49aae834-c8e8-463c-c9e2-8f196733ddf9"
      },
      "outputs": [
        {
          "data": {
            "text/plain": [
              "tensor([[-1.1022e+37,  4.5573e-41, -1.1022e+37],\n",
              "        [ 4.5573e-41,  0.0000e+00,  0.0000e+00]])"
            ]
          },
          "execution_count": 3,
          "metadata": {},
          "output_type": "execute_result"
        }
      ],
      "source": [
        "torch.Tensor(2,3)"
      ]
    },
    {
      "cell_type": "markdown",
      "id": "eb6c9412-13c2-485b-a1ec-bbc65b4036bc",
      "metadata": {
        "id": "eb6c9412-13c2-485b-a1ec-bbc65b4036bc"
      },
      "source": [
        "Considering that a Tensor is a much more mathematically inclined object than a multidimensional array, let me introduce a naming convention which will be compatible with mathematical objects a Tensor represents. For instance, a vector from $\\mathbb{R}^n$ is considered $n$-dimensional in mathematics but it can be stored in a one-dimensional array, a matrix in $\\mathbb{R}^{r \\times c}$ is considered to be $r \\times c$-dimensional  object, but can be stored in a two-dimensional array. This duality creates a confusion. In my experience the following naming convention is coherent considering that Tensors **are** mathematical objects.\n",
        "\n",
        "Tensor Terms  | Meaning | Multidimensional Array Terms\n",
        "---|---|---\n",
        "**order** | number of indices (levels) in a Tensor | dimension\n",
        "**dimension** | number of components a Tensor can store in a given order | size\n",
        "Tensor of order zero | a constant | - |\n",
        "Tensor of order one | a vector | one-dimensional array |\n",
        "Tensor of order two | a matrix | two-dimensional array |\n",
        "`torch.tensor([1.1, 4.12, 8.9, 14.85])` | an order-one 4-dimensional tensor representing a vector in $\\mathbb{R}^4$ | `[1.1, 4.12, 8.9, 14.85]`"
      ]
    }
  ],
  "metadata": {
    "kernelspec": {
      "display_name": "Python 3 (ipykernel)",
      "language": "python",
      "name": "python3"
    },
    "language_info": {
      "codemirror_mode": {
        "name": "ipython",
        "version": 3
      },
      "file_extension": ".py",
      "mimetype": "text/x-python",
      "name": "python",
      "nbconvert_exporter": "python",
      "pygments_lexer": "ipython3",
      "version": "3.8.10"
    },
    "colab": {
      "provenance": [],
      "include_colab_link": true
    }
  },
  "nbformat": 4,
  "nbformat_minor": 5
}